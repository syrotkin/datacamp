{
 "cells": [
  {
   "cell_type": "markdown",
   "source": [
    "Prerequisites\r\n",
    "- intermediate Python\r\n",
    "- Supervised learning with scikit-learn (scikit-learn, supervised learning)"
   ],
   "metadata": {}
  },
  {
   "cell_type": "markdown",
   "source": [],
   "metadata": {}
  },
  {
   "cell_type": "code",
   "execution_count": 10,
   "source": [
    "import sklearn.datasets\r\n",
    "from sklearn.neighbors import KNeighborsClassifier\r\n",
    "from sklearn.model_selection import train_test_split\r\n",
    "\r\n",
    "newsgroups = sklearn.datasets.fetch_20newsgroups_vectorized()\r\n",
    "\r\n",
    "X, y = newsgroups.data, newsgroups.target\r\n",
    "\r\n",
    "X.shape\r\n",
    "\r\n",
    "y.shape\r\n",
    "\r\n",
    "knn = KNeighborsClassifier(n_neighbors=1)\r\n",
    "\r\n",
    "knn.fit(X, y)\r\n",
    "\r\n",
    "y_pred = knn.predict(X)\r\n",
    "\r\n",
    "# Test score is too high, 0.99, but the problem is, we were fitting using the training data\r\n",
    "knn.score(X, y)\r\n",
    "\r\n",
    "X_train, X_test, y_train, y_test = train_test_split(X, y)\r\n",
    "\r\n",
    "knn.fit(X_train, y_train)\r\n",
    "\r\n",
    "# get 0.66 accuracy\r\n",
    "knn.score(X_test, y_test)"
   ],
   "outputs": [
    {
     "output_type": "execute_result",
     "data": {
      "text/plain": [
       "0.6645457758925415"
      ]
     },
     "metadata": {},
     "execution_count": 10
    }
   ],
   "metadata": {}
  },
  {
   "cell_type": "code",
   "execution_count": null,
   "source": [
    "from sklearn.neighbors import KNeighborsClassifier\r\n",
    "\r\n",
    "# Create and fit the model\r\n",
    "knn = KNeighborsClassifier()\r\n",
    "knn.fit(X_train, y_train)\r\n",
    "\r\n",
    "# Predict on the test features, print the results\r\n",
    "pred = knn.predict(X_test)[0]\r\n",
    "print(\"Prediction for test example 0:\", pred)"
   ],
   "outputs": [],
   "metadata": {}
  },
  {
   "cell_type": "markdown",
   "source": [
    "Model selection - selecting a model with a higher accuracy, e.g. KNN with N = 1 or with N =5 (based on score)"
   ],
   "metadata": {}
  },
  {
   "cell_type": "markdown",
   "source": [
    "**Logistic Regression**\r\n",
    "\r\n",
    "Is a linear classifier"
   ],
   "metadata": {}
  },
  {
   "cell_type": "code",
   "execution_count": null,
   "source": [
    "# Using logistic regression:\r\n",
    "from sklearn.linear_model import LogisticRegression\r\n",
    "import sklearn.datasets\r\n",
    "\r\n",
    "# instantiate the classifier\r\n",
    "lr = LogisticRegression()\r\n",
    "lr.fit(X_train, y_train)\r\n",
    "lr.predict(X_test)\r\n",
    "lr.score(X_test, y_test)\r\n",
    "\r\n",
    "wine = sklearn.datasets.load_wine()"
   ],
   "outputs": [],
   "metadata": {}
  },
  {
   "cell_type": "code",
   "execution_count": 10,
   "source": [
    "import sklearn.datasets\r\n",
    "\r\n",
    "wine = sklearn.datasets.load_wine()\r\n",
    "\r\n",
    "from sklearn.linear_model import LogisticRegression\r\n",
    "lr = LogisticRegression()\r\n",
    "lr.fit(wine.data, wine.target)\r\n",
    "lr.score(wine.data, wine.target)"
   ],
   "outputs": [
    {
     "output_type": "stream",
     "name": "stderr",
     "text": [
      "C:\\Users\\oleksiysyrotkin\\AppData\\Local\\Programs\\Python\\Python39\\lib\\site-packages\\sklearn\\linear_model\\_logistic.py:763: ConvergenceWarning: lbfgs failed to converge (status=1):\n",
      "STOP: TOTAL NO. of ITERATIONS REACHED LIMIT.\n",
      "\n",
      "Increase the number of iterations (max_iter) or scale the data as shown in:\n",
      "    https://scikit-learn.org/stable/modules/preprocessing.html\n",
      "Please also refer to the documentation for alternative solver options:\n",
      "    https://scikit-learn.org/stable/modules/linear_model.html#logistic-regression\n",
      "  n_iter_i = _check_optimize_result(\n"
     ]
    },
    {
     "output_type": "execute_result",
     "data": {
      "text/plain": [
       "0.9662921348314607"
      ]
     },
     "metadata": {},
     "execution_count": 10
    }
   ],
   "metadata": {}
  },
  {
   "cell_type": "code",
   "execution_count": 13,
   "source": [
    "# outputting confidence scores instead of hard predictions:\r\n",
    "# high probability for the first class, low probabilities for the other 2 classes\r\n",
    "lr.predict_proba(wine.data[:1])\r\n",
    "\r\n",
    "wine.data[:1]"
   ],
   "outputs": [
    {
     "output_type": "execute_result",
     "data": {
      "text/plain": [
       "array([[1.423e+01, 1.710e+00, 2.430e+00, 1.560e+01, 1.270e+02, 2.800e+00,\n",
       "        3.060e+00, 2.800e-01, 2.290e+00, 5.640e+00, 1.040e+00, 3.920e+00,\n",
       "        1.065e+03]])"
      ]
     },
     "metadata": {},
     "execution_count": 13
    }
   ],
   "metadata": {}
  },
  {
   "cell_type": "markdown",
   "source": [
    "**LinearSVC**\r\n",
    "\r\n",
    "Linear support vector classifier (SVM)\r\n",
    "\r\n",
    "Works the same way as LogisticRegression"
   ],
   "metadata": {}
  },
  {
   "cell_type": "code",
   "execution_count": 5,
   "source": [
    "import sklearn.datasets\r\n",
    "\r\n",
    "wine = sklearn.datasets.load_wine()\r\n",
    "\r\n",
    "from sklearn.svm import LinearSVC\r\n",
    "\r\n",
    "svm = LinearSVC()\r\n",
    "\r\n",
    "svm.fit(wine.data, wine.target)\r\n",
    "svm.score(wine.data, wine.target)\r\n",
    "\r\n"
   ],
   "outputs": [
    {
     "output_type": "stream",
     "name": "stderr",
     "text": [
      "C:\\Users\\oleksiysyrotkin\\AppData\\Local\\Programs\\Python\\Python39\\lib\\site-packages\\sklearn\\svm\\_base.py:985: ConvergenceWarning: Liblinear failed to converge, increase the number of iterations.\n",
      "  warnings.warn(\"Liblinear failed to converge, increase \"\n"
     ]
    },
    {
     "output_type": "execute_result",
     "data": {
      "text/plain": [
       "0.9101123595505618"
      ]
     },
     "metadata": {},
     "execution_count": 5
    }
   ],
   "metadata": {}
  },
  {
   "cell_type": "markdown",
   "source": [
    "**SVC**\r\n",
    "\r\n",
    "Non-linear SVM"
   ],
   "metadata": {}
  },
  {
   "cell_type": "code",
   "execution_count": 6,
   "source": [
    "import sklearn.datasets\r\n",
    "wine = sklearn.datasets.load_wine()\r\n",
    "\r\n",
    "from sklearn.svm import SVC\r\n",
    "\r\n",
    "svm = SVC() # default hyperparameters\r\n",
    "svm.fit(wine.data, wine.target)\r\n",
    "svm.score(wine.data, wine.target)\r\n"
   ],
   "outputs": [
    {
     "output_type": "execute_result",
     "data": {
      "text/plain": [
       "0.7078651685393258"
      ]
     },
     "metadata": {},
     "execution_count": 6
    }
   ],
   "metadata": {}
  },
  {
   "cell_type": "markdown",
   "source": [
    "When using more complex models, there is a risk of overfitting! E.g. using a non-linear SVC where a linear SVC should do.\r\n",
    "\r\n",
    "**Hyperparameter** - choice about the model you make before fitting the data. Controls the complexity of the model.\r\n",
    "\r\n",
    "**Underfitting** - model too simple, low training accuracy.\r\n",
    "\r\n",
    "**Overfitting** - model too complex, low test accuracy."
   ],
   "metadata": {}
  },
  {
   "cell_type": "code",
   "execution_count": 27,
   "source": [
    "# Exercise:\r\n",
    "# Applying LogisticRegression and SVC to digits data\r\n",
    "from sklearn.model_selection import train_test_split\r\n",
    "from sklearn import datasets\r\n",
    "digits = datasets.load_digits()\r\n",
    "X_train, X_test, y_train, y_test = train_test_split(digits.data, digits.target)\r\n",
    "\r\n",
    "# Apply logistic regression and print scores\r\n",
    "lr = LogisticRegression()\r\n",
    "lr.fit(X_train, y_train)\r\n",
    "print(lr.score(X_train, y_train))\r\n",
    "print(lr.score(X_test, y_test))\r\n",
    "\r\n",
    "# Apply SVM and print scores\r\n",
    "svm = SVC()\r\n",
    "svm.fit(X_train, y_train)\r\n",
    "print(svm.score(X_test, y_test))\r\n",
    "print(svm.score(X_test, y_test))"
   ],
   "outputs": [
    {
     "output_type": "stream",
     "name": "stdout",
     "text": [
      "1.0\n",
      "0.9622222222222222\n"
     ]
    },
    {
     "output_type": "stream",
     "name": "stderr",
     "text": [
      "C:\\Users\\oleksiysyrotkin\\AppData\\Local\\Programs\\Python\\Python39\\lib\\site-packages\\sklearn\\linear_model\\_logistic.py:763: ConvergenceWarning: lbfgs failed to converge (status=1):\n",
      "STOP: TOTAL NO. of ITERATIONS REACHED LIMIT.\n",
      "\n",
      "Increase the number of iterations (max_iter) or scale the data as shown in:\n",
      "    https://scikit-learn.org/stable/modules/preprocessing.html\n",
      "Please also refer to the documentation for alternative solver options:\n",
      "    https://scikit-learn.org/stable/modules/linear_model.html#logistic-regression\n",
      "  n_iter_i = _check_optimize_result(\n"
     ]
    },
    {
     "output_type": "error",
     "ename": "NameError",
     "evalue": "name 'SVC' is not defined",
     "traceback": [
      "\u001b[1;31m---------------------------------------------------------------------------\u001b[0m",
      "\u001b[1;31mNameError\u001b[0m                                 Traceback (most recent call last)",
      "\u001b[1;32m<ipython-input-27-105a6d615c37>\u001b[0m in \u001b[0;36m<module>\u001b[1;34m\u001b[0m\n\u001b[0;32m     13\u001b[0m \u001b[1;33m\u001b[0m\u001b[0m\n\u001b[0;32m     14\u001b[0m \u001b[1;31m# Apply SVM and print scores\u001b[0m\u001b[1;33m\u001b[0m\u001b[1;33m\u001b[0m\u001b[1;33m\u001b[0m\u001b[0m\n\u001b[1;32m---> 15\u001b[1;33m \u001b[0msvm\u001b[0m \u001b[1;33m=\u001b[0m \u001b[0mSVC\u001b[0m\u001b[1;33m(\u001b[0m\u001b[1;33m)\u001b[0m\u001b[1;33m\u001b[0m\u001b[1;33m\u001b[0m\u001b[0m\n\u001b[0m\u001b[0;32m     16\u001b[0m \u001b[0msvm\u001b[0m\u001b[1;33m.\u001b[0m\u001b[0mfit\u001b[0m\u001b[1;33m(\u001b[0m\u001b[0mX_train\u001b[0m\u001b[1;33m,\u001b[0m \u001b[0my_train\u001b[0m\u001b[1;33m)\u001b[0m\u001b[1;33m\u001b[0m\u001b[1;33m\u001b[0m\u001b[0m\n\u001b[0;32m     17\u001b[0m \u001b[0mprint\u001b[0m\u001b[1;33m(\u001b[0m\u001b[0msvm\u001b[0m\u001b[1;33m.\u001b[0m\u001b[0mscore\u001b[0m\u001b[1;33m(\u001b[0m\u001b[0mX_test\u001b[0m\u001b[1;33m,\u001b[0m \u001b[0my_test\u001b[0m\u001b[1;33m)\u001b[0m\u001b[1;33m)\u001b[0m\u001b[1;33m\u001b[0m\u001b[1;33m\u001b[0m\u001b[0m\n",
      "\u001b[1;31mNameError\u001b[0m: name 'SVC' is not defined"
     ]
    }
   ],
   "metadata": {}
  },
  {
   "cell_type": "code",
   "execution_count": null,
   "source": [
    "# Sentiment analysis\r\n",
    "# Instantiate logistic regression and train\r\n",
    "lr = LogisticRegression()\r\n",
    "lr.fit(X, y)\r\n",
    "\r\n",
    "# Predict sentiment for a glowing review\r\n",
    "review1 = \"LOVED IT! This movie was amazing. Top 10 this year.\"\r\n",
    "review1_features = get_features(review1)\r\n",
    "print(\"Review:\", review1)\r\n",
    "print(\"Probability of positive review:\", lr.predict_proba(review1_features)[0,1])\r\n",
    "\r\n",
    "# Predict sentiment for a poor review\r\n",
    "review2 = \"Total junk! I'll never watch a film by that director again, no matter how good the reviews.\"\r\n",
    "review2_features = get_features(review2)\r\n",
    "print(\"Review:\", review2)\r\n",
    "print(\"Probability of positive review:\", lr.predict_proba(review2_features)[0,1])"
   ],
   "outputs": [],
   "metadata": {}
  },
  {
   "cell_type": "markdown",
   "source": [
    "What makes a classifier linear?\r\n",
    "\r\n",
    "Decision boundary - line that separates areas of \"different classification\" (?) e.g. area \r\n",
    "\r\n",
    "If the decision boundary is a straight line, then the classifier is linear.\r\n",
    "\r\n",
    "**Classification** - learning to predict categories (y values are categories)\r\n",
    "\r\n",
    "**Regression** - learning to predict a contiguous value (y-values are contiguous)\r\n",
    "\r\n",
    "**Linear classifier** - classifier that learns linear decision boundaries\r\n",
    "\r\n",
    "**Linearly separable** - data set can be explained by a linear classifier."
   ],
   "metadata": {}
  },
  {
   "cell_type": "code",
   "execution_count": null,
   "source": [
    "# Exercise: visualizing decision boundaries:\r\n",
    "from sklearn.linear_model import LogisticRegression\r\n",
    "from sklearn.svm import SVC, LinearSVC\r\n",
    "from sklearn.neighbors import KNeighborsClassifier\r\n",
    "\r\n",
    "# Define the classifiers\r\n",
    "classifiers = [LogisticRegression(), LinearSVC(), SVC(), KNeighborsClassifier()]\r\n",
    "\r\n",
    "# Fit the classifiers\r\n",
    "for c in classifiers:\r\n",
    "    c.fit(X, y)\r\n",
    "\r\n",
    "# Plot the classifiers\r\n",
    "# plot_4_classifiers needs to be defined, like \r\n",
    "# here:https://scikit-learn.org/stable/auto_examples/svm/plot_iris_svc.html\r\n",
    "plot_4_classifiers(X, y, classifiers)\r\n",
    "plt.show()"
   ],
   "outputs": [],
   "metadata": {}
  },
  {
   "cell_type": "markdown",
   "source": [
    "# Chapter 2: Loss functions\r\n"
   ],
   "metadata": {}
  },
  {
   "cell_type": "code",
   "execution_count": 18,
   "source": [
    "import numpy as np\r\n",
    "x = np.arange(3)\r\n",
    "y = np.arange(3, 6)\r\n",
    "\r\n",
    "# dot product:\r\n",
    "np.sum(x*y)\r\n",
    "\r\n",
    "# recent python versions: @ for dot product\r\n",
    "x@y"
   ],
   "outputs": [
    {
     "output_type": "execute_result",
     "data": {
      "text/plain": [
       "14"
      ]
     },
     "metadata": {},
     "execution_count": 18
    }
   ],
   "metadata": {}
  },
  {
   "cell_type": "markdown",
   "source": [
    "`raw model output = coefficients * features + intercept`\r\n",
    "\r\n",
    "Linear classifier prediction: compute raw model output, check the sign.\r\n",
    "- positive: predict one class\r\n",
    "- negative: predict other class\r\n",
    "\r\n",
    "Logistic Regression and linear SVM\r\n",
    "- different fit functions, but same predict functions\r\n",
    "- difference in fit is related to the loss function"
   ],
   "metadata": {}
  },
  {
   "cell_type": "code",
   "execution_count": 19,
   "source": [
    "lr = LogisticRegression()\r\n",
    "\r\n",
    "lr.fit(X, y)\r\n",
    "\r\n",
    "lr.predict(X)[10]\r\n",
    "\r\n",
    "lr.coef_ @ X[10] + lr.intercept_ # raw model output\r\n",
    "\r\n",
    "# output negative => predict one class\r\n",
    "\r\n",
    "lr.coef_ @ X[20] + lr.intercept_ # raw model output\r\n",
    "\r\n",
    "# output positive => predict another class"
   ],
   "outputs": [
    {
     "output_type": "error",
     "ename": "NameError",
     "evalue": "name 'X' is not defined",
     "traceback": [
      "\u001b[1;31m---------------------------------------------------------------------------\u001b[0m",
      "\u001b[1;31mNameError\u001b[0m                                 Traceback (most recent call last)",
      "\u001b[1;32m<ipython-input-19-5a8a01d145ef>\u001b[0m in \u001b[0;36m<module>\u001b[1;34m\u001b[0m\n\u001b[0;32m      1\u001b[0m \u001b[0mlr\u001b[0m \u001b[1;33m=\u001b[0m \u001b[0mLogisticRegression\u001b[0m\u001b[1;33m(\u001b[0m\u001b[1;33m)\u001b[0m\u001b[1;33m\u001b[0m\u001b[1;33m\u001b[0m\u001b[0m\n\u001b[0;32m      2\u001b[0m \u001b[1;33m\u001b[0m\u001b[0m\n\u001b[1;32m----> 3\u001b[1;33m \u001b[0mlr\u001b[0m\u001b[1;33m.\u001b[0m\u001b[0mfit\u001b[0m\u001b[1;33m(\u001b[0m\u001b[0mX\u001b[0m\u001b[1;33m,\u001b[0m \u001b[0my\u001b[0m\u001b[1;33m)\u001b[0m\u001b[1;33m\u001b[0m\u001b[1;33m\u001b[0m\u001b[0m\n\u001b[0m\u001b[0;32m      4\u001b[0m \u001b[1;33m\u001b[0m\u001b[0m\n\u001b[0;32m      5\u001b[0m \u001b[0mlr\u001b[0m\u001b[1;33m.\u001b[0m\u001b[0mpredict\u001b[0m\u001b[1;33m(\u001b[0m\u001b[0mX\u001b[0m\u001b[1;33m)\u001b[0m\u001b[1;33m[\u001b[0m\u001b[1;36m10\u001b[0m\u001b[1;33m]\u001b[0m\u001b[1;33m\u001b[0m\u001b[1;33m\u001b[0m\u001b[0m\n",
      "\u001b[1;31mNameError\u001b[0m: name 'X' is not defined"
     ]
    }
   ],
   "metadata": {}
  },
  {
   "cell_type": "markdown",
   "source": [
    "Loss functions\r\n",
    "\r\n",
    "Linear regression minimizes loss:\r\n",
    "\r\n",
    "Sum of squares (true ith value - predicted ith target value)^2\r\n",
    "\r\n",
    "Score function - not the same as loss function"
   ],
   "metadata": {}
  },
  {
   "cell_type": "code",
   "execution_count": 21,
   "source": [
    "# minimizing functions:\r\n",
    "from scipy.optimize import minimize\r\n",
    "\r\n",
    "minimize(np.square, 0).x\r\n",
    "# outputs 0\r\n",
    "\r\n",
    "minimize(np.square, 2).x\r\n",
    "# outputs -1.88e-08"
   ],
   "outputs": [
    {
     "output_type": "execute_result",
     "data": {
      "text/plain": [
       "array([-1.88846401e-08])"
      ]
     },
     "metadata": {},
     "execution_count": 21
    }
   ],
   "metadata": {}
  },
  {
   "cell_type": "code",
   "execution_count": 4,
   "source": [
    "# Exercise: minimizing a loss function:\r\n",
    "from scipy.optimize import minimize\r\n",
    "from sklearn.linear_model import LinearRegression\r\n",
    "from sklearn.datasets import load_boston\r\n",
    "\r\n",
    "boston = load_boston()\r\n",
    "\r\n",
    "X = boston.data\r\n",
    "y = boston.target\r\n",
    "\r\n",
    "# The squared error, summed over training examples\r\n",
    "def my_loss(w):\r\n",
    "    s = 0\r\n",
    "    for i in range(y.size):\r\n",
    "        # Get the true and predicted target values for example 'i'\r\n",
    "        y_i_true = y[i]\r\n",
    "        y_i_pred = w@X[i]\r\n",
    "        s = s + (y_i_true - y_i_pred)**2\r\n",
    "    return s\r\n",
    "\r\n",
    "# Returns the w that makes my_loss(w) smallest\r\n",
    "w_fit = minimize(my_loss, X[0]).x\r\n",
    "print(w_fit)\r\n",
    "\r\n",
    "# Compare with scikit-learn's LinearRegression coefficients\r\n",
    "lr = LinearRegression(fit_intercept=False).fit(X,y)\r\n",
    "print(lr.coef_)"
   ],
   "outputs": [
    {
     "output_type": "stream",
     "name": "stdout",
     "text": [
      "[-9.28967767e-02  4.87153030e-02 -4.05652768e-03  2.85398862e+00\n",
      " -2.86846955e+00  5.92815781e+00 -7.26931162e-03 -9.68514356e-01\n",
      "  1.71156263e-01 -9.39662313e-03 -3.92187236e-01  1.49054807e-02\n",
      " -4.16303782e-01]\n",
      "[-9.28965170e-02  4.87149552e-02 -4.05997958e-03  2.85399882e+00\n",
      " -2.86843637e+00  5.92814778e+00 -7.26933458e-03 -9.68514157e-01\n",
      "  1.71151128e-01 -9.39621540e-03 -3.92190926e-01  1.49056102e-02\n",
      " -4.16304471e-01]\n"
     ]
    }
   ],
   "metadata": {}
  },
  {
   "cell_type": "markdown",
   "source": [
    "## Loss function diagrams\r\n",
    "\r\n",
    "Linear regression loss function - parabola - does not work for linear classifiers. In linear classifiers we don't care how far we are from 1, we just care about the sign. If we are on the positive side of the plot, the loss should be minimal.\r\n",
    "\r\n",
    "Logistic regression loss - smooth version of the 0-1 loss\r\n",
    "\r\n",
    "Hinge loss - loss used in SVMs."
   ],
   "metadata": {}
  },
  {
   "cell_type": "code",
   "execution_count": 14,
   "source": [
    "# Exercise: plotting loss functions\r\n",
    "import numpy as np\r\n",
    "import matplotlib.pyplot as plt\r\n",
    "import seaborn as sns\r\n",
    "\r\n",
    "# Mathematical functions for logistic and hinge losses\r\n",
    "def log_loss(raw_model_output):\r\n",
    "   return np.log(1+np.exp(-raw_model_output))\r\n",
    "def hinge_loss(raw_model_output):\r\n",
    "   return np.maximum(0,1-raw_model_output)\r\n",
    "\r\n",
    "# Create a grid of values and plot\r\n",
    "sns.set()\r\n",
    "grid = np.linspace(-2,2,1000)\r\n",
    "plt.plot(grid, log_loss(grid), label='logistic')\r\n",
    "plt.plot(grid, hinge_loss(grid), label='hinge')\r\n",
    "plt.legend()\r\n",
    "plt.show()"
   ],
   "outputs": [
    {
     "output_type": "display_data",
     "data": {
      "image/png": "[encoded data removed]",
      "text/plain": [
       "<Figure size 432x288 with 1 Axes>"
      ]
     },
     "metadata": {}
    }
   ],
   "metadata": {}
  },
  {
   "cell_type": "code",
   "execution_count": 15,
   "source": [
    "# minimizing loss function:\r\n",
    "from sklearn.datasets import load_breast_cancer\r\n",
    "from sklearn.linear_model import LogisticRegression\r\n",
    "\r\n",
    "breast_cancer = load_breast_cancer()\r\n",
    "X = breast_cancer.data\r\n",
    "y = breast_cancer.target\r\n",
    "\r\n",
    "# The logistic loss, summed over training examples\r\n",
    "def my_loss(w):\r\n",
    "    s = 0\r\n",
    "    for i in range(len(X)):\r\n",
    "        raw_model_output = w@X[i]\r\n",
    "        s = s + log_loss(raw_model_output * y[i])\r\n",
    "    return s\r\n",
    "\r\n",
    "# Returns the w that makes my_loss(w) smallest\r\n",
    "w_fit = minimize(my_loss, X[0]).x\r\n",
    "print(w_fit)\r\n",
    "\r\n",
    "# Compare with scikit-learn's LogisticRegression\r\n",
    "lr = LogisticRegression(fit_intercept=False, C=1000000).fit(X,y)\r\n",
    "print(lr.coef_)"
   ],
   "outputs": [
    {
     "output_type": "stream",
     "name": "stdout",
     "text": [
      "[1.799e+01 1.038e+01 1.228e+02 1.001e+03 1.184e-01 2.776e-01 3.001e-01\n",
      " 1.471e-01 2.419e-01 7.871e-02 1.095e+00 9.053e-01 8.589e+00 1.534e+02\n",
      " 6.399e-03 4.904e-02 5.373e-02 1.587e-02 3.003e-02 6.193e-03 2.538e+01\n",
      " 1.733e+01 1.846e+02 2.019e+03 1.622e-01 6.656e-01 7.119e-01 2.654e-01\n",
      " 4.601e-01 1.189e-01]\n",
      "[[ 1.09683963  0.52011027  0.25623872 -0.01645238 -0.04158076 -0.19438604\n",
      "  -0.27196799 -0.11469031 -0.05756601 -0.01154023  0.04813672  0.43966648\n",
      "   0.18219892 -0.13179003 -0.00373598 -0.04157467 -0.05798396 -0.01489177\n",
      "  -0.01389833 -0.00387131  1.16637706 -0.58054026 -0.24845823 -0.01488104\n",
      "  -0.07521871 -0.60478095 -0.75273062 -0.22036334 -0.18192594 -0.05833046]]\n"
     ]
    },
    {
     "output_type": "stream",
     "name": "stderr",
     "text": [
      "C:\\Users\\oleksiysyrotkin\\AppData\\Local\\Programs\\Python\\Python39\\lib\\site-packages\\sklearn\\linear_model\\_logistic.py:763: ConvergenceWarning: lbfgs failed to converge (status=1):\n",
      "STOP: TOTAL NO. of ITERATIONS REACHED LIMIT.\n",
      "\n",
      "Increase the number of iterations (max_iter) or scale the data as shown in:\n",
      "    https://scikit-learn.org/stable/modules/preprocessing.html\n",
      "Please also refer to the documentation for alternative solver options:\n",
      "    https://scikit-learn.org/stable/modules/linear_model.html#logistic-regression\n",
      "  n_iter_i = _check_optimize_result(\n"
     ]
    }
   ],
   "metadata": {}
  },
  {
   "cell_type": "markdown",
   "source": [
    "\r\n",
    "# Chapter 3: Logistic Regression\r\n",
    "\r\n",
    "Regularization combats overfitting by making model coefficients smaller.\r\n",
    "\r\n",
    "scikit-learn C: inverse of regularization strength\r\n",
    "\r\n",
    "Regularization penalizes large values of coefficients\r\n",
    "\r\n",
    "Without regularization, we maximize training accuracy\r\n",
    "\r\n",
    "Regularization: higher test accuracy\r\n",
    "\r\n",
    "Lasso = linear regression with L1 regularization\r\n",
    "\r\n",
    "Ridge = linear regression with L2 regularization\r\n",
    "\r\n",
    "L1 - also performs feature selection"
   ],
   "metadata": {}
  },
  {
   "cell_type": "code",
   "execution_count": 42,
   "source": [
    "from sklearn.datasets import load_breast_cancer\r\n",
    "from sklearn.linear_model import LogisticRegression\r\n",
    "from sklearn.model_selection import train_test_split\r\n",
    "import matplotlib.pyplot as plt\r\n",
    "\r\n",
    "breast_cancer = load_breast_cancer()\r\n",
    "X = breast_cancer.data\r\n",
    "y = breast_cancer.target\r\n",
    "\r\n",
    "X_train, X_test, y_train, y_test = train_test_split(breast_cancer.data, breast_cancer.target)\r\n",
    "\r\n",
    "lr_L1 = LogisticRegression(penalty='l1', solver='liblinear')\r\n",
    "lr_L2 = LogisticRegression(penalty='l2') # penalty='l2' by default\r\n",
    "\r\n",
    "lr_L1.fit(X_train, y_train)\r\n",
    "lr_L2.fit(X_train, y_train)\r\n",
    "\r\n",
    "plt.plot(lr_L1.coef_.flatten())\r\n",
    "plt.plot(lr_L2.coef_.flatten())\r\n"
   ],
   "outputs": [
    {
     "output_type": "stream",
     "name": "stderr",
     "text": [
      "C:\\Users\\oleksiysyrotkin\\AppData\\Local\\Programs\\Python\\Python39\\lib\\site-packages\\sklearn\\svm\\_base.py:985: ConvergenceWarning: Liblinear failed to converge, increase the number of iterations.\n",
      "  warnings.warn(\"Liblinear failed to converge, increase \"\n",
      "C:\\Users\\oleksiysyrotkin\\AppData\\Local\\Programs\\Python\\Python39\\lib\\site-packages\\sklearn\\linear_model\\_logistic.py:763: ConvergenceWarning: lbfgs failed to converge (status=1):\n",
      "STOP: TOTAL NO. of ITERATIONS REACHED LIMIT.\n",
      "\n",
      "Increase the number of iterations (max_iter) or scale the data as shown in:\n",
      "    https://scikit-learn.org/stable/modules/preprocessing.html\n",
      "Please also refer to the documentation for alternative solver options:\n",
      "    https://scikit-learn.org/stable/modules/linear_model.html#logistic-regression\n",
      "  n_iter_i = _check_optimize_result(\n"
     ]
    },
    {
     "output_type": "execute_result",
     "data": {
      "text/plain": [
       "[<matplotlib.lines.Line2D at 0x1cc031d2af0>]"
      ]
     },
     "metadata": {},
     "execution_count": 42
    },
    {
     "output_type": "display_data",
     "data": {
      "image/png": "[encoded data removed]",
      "text/plain": [
       "<Figure size 432x288 with 1 Axes>"
      ]
     },
     "metadata": {}
    }
   ],
   "metadata": {}
  },
  {
   "cell_type": "markdown",
   "source": [
    "L1 regularization sets many coefficients to 0 => ignores those features => performs feature selection\r\n"
   ],
   "metadata": {}
  },
  {
   "cell_type": "code",
   "execution_count": 29,
   "source": [
    "# Train and validaton errors initialized as empty list\r\n",
    "from sklearn.datasets import load_digits\r\n",
    "from sklearn.model_selection import train_test_split\r\n",
    "\r\n",
    "digits = load_digits()\r\n",
    "X_train, X_valid, y_train, y_valid = train_test_split(digits.data, digits.target)\r\n",
    "\r\n",
    "train_errs = list()\r\n",
    "valid_errs = list()\r\n",
    "\r\n",
    "C_values = [0.001, 0.01, 0.1, 1, 10, 100, 1000]\r\n",
    "\r\n",
    "# Loop over values of C_value\r\n",
    "for C_value in C_values:\r\n",
    "    # Create LogisticRegression object and fit\r\n",
    "    lr = LogisticRegression(C=C_value)\r\n",
    "    lr.fit(X_train, y_train)\r\n",
    "    \r\n",
    "    # Evaluate error rates and append to lists\r\n",
    "    train_errs.append( 1.0 - lr.score(X_train, y_train) )\r\n",
    "    valid_errs.append( 1.0 - lr.score(X_valid, y_valid) )\r\n",
    "    \r\n",
    "# Plot results\r\n",
    "plt.semilogx(C_values, train_errs, C_values, valid_errs)\r\n",
    "plt.legend((\"train\", \"validation\"))\r\n",
    "plt.show()\r\n",
    "\r\n",
    "# 0.01 is the best value of C\r\n",
    "# small C: underfitting (too much regularization)\r\n",
    "# large C: overfitting (too little regularization)"
   ],
   "outputs": [
    {
     "output_type": "stream",
     "name": "stderr",
     "text": [
      "C:\\Users\\oleksiysyrotkin\\AppData\\Local\\Programs\\Python\\Python39\\lib\\site-packages\\sklearn\\linear_model\\_logistic.py:763: ConvergenceWarning: lbfgs failed to converge (status=1):\n",
      "STOP: TOTAL NO. of ITERATIONS REACHED LIMIT.\n",
      "\n",
      "Increase the number of iterations (max_iter) or scale the data as shown in:\n",
      "    https://scikit-learn.org/stable/modules/preprocessing.html\n",
      "Please also refer to the documentation for alternative solver options:\n",
      "    https://scikit-learn.org/stable/modules/linear_model.html#logistic-regression\n",
      "  n_iter_i = _check_optimize_result(\n",
      "C:\\Users\\oleksiysyrotkin\\AppData\\Local\\Programs\\Python\\Python39\\lib\\site-packages\\sklearn\\linear_model\\_logistic.py:763: ConvergenceWarning: lbfgs failed to converge (status=1):\n",
      "STOP: TOTAL NO. of ITERATIONS REACHED LIMIT.\n",
      "\n",
      "Increase the number of iterations (max_iter) or scale the data as shown in:\n",
      "    https://scikit-learn.org/stable/modules/preprocessing.html\n",
      "Please also refer to the documentation for alternative solver options:\n",
      "    https://scikit-learn.org/stable/modules/linear_model.html#logistic-regression\n",
      "  n_iter_i = _check_optimize_result(\n",
      "C:\\Users\\oleksiysyrotkin\\AppData\\Local\\Programs\\Python\\Python39\\lib\\site-packages\\sklearn\\linear_model\\_logistic.py:763: ConvergenceWarning: lbfgs failed to converge (status=1):\n",
      "STOP: TOTAL NO. of ITERATIONS REACHED LIMIT.\n",
      "\n",
      "Increase the number of iterations (max_iter) or scale the data as shown in:\n",
      "    https://scikit-learn.org/stable/modules/preprocessing.html\n",
      "Please also refer to the documentation for alternative solver options:\n",
      "    https://scikit-learn.org/stable/modules/linear_model.html#logistic-regression\n",
      "  n_iter_i = _check_optimize_result(\n",
      "C:\\Users\\oleksiysyrotkin\\AppData\\Local\\Programs\\Python\\Python39\\lib\\site-packages\\sklearn\\linear_model\\_logistic.py:763: ConvergenceWarning: lbfgs failed to converge (status=1):\n",
      "STOP: TOTAL NO. of ITERATIONS REACHED LIMIT.\n",
      "\n",
      "Increase the number of iterations (max_iter) or scale the data as shown in:\n",
      "    https://scikit-learn.org/stable/modules/preprocessing.html\n",
      "Please also refer to the documentation for alternative solver options:\n",
      "    https://scikit-learn.org/stable/modules/linear_model.html#logistic-regression\n",
      "  n_iter_i = _check_optimize_result(\n",
      "C:\\Users\\oleksiysyrotkin\\AppData\\Local\\Programs\\Python\\Python39\\lib\\site-packages\\sklearn\\linear_model\\_logistic.py:763: ConvergenceWarning: lbfgs failed to converge (status=1):\n",
      "STOP: TOTAL NO. of ITERATIONS REACHED LIMIT.\n",
      "\n",
      "Increase the number of iterations (max_iter) or scale the data as shown in:\n",
      "    https://scikit-learn.org/stable/modules/preprocessing.html\n",
      "Please also refer to the documentation for alternative solver options:\n",
      "    https://scikit-learn.org/stable/modules/linear_model.html#logistic-regression\n",
      "  n_iter_i = _check_optimize_result(\n",
      "C:\\Users\\oleksiysyrotkin\\AppData\\Local\\Programs\\Python\\Python39\\lib\\site-packages\\sklearn\\linear_model\\_logistic.py:763: ConvergenceWarning: lbfgs failed to converge (status=1):\n",
      "STOP: TOTAL NO. of ITERATIONS REACHED LIMIT.\n",
      "\n",
      "Increase the number of iterations (max_iter) or scale the data as shown in:\n",
      "    https://scikit-learn.org/stable/modules/preprocessing.html\n",
      "Please also refer to the documentation for alternative solver options:\n",
      "    https://scikit-learn.org/stable/modules/linear_model.html#logistic-regression\n",
      "  n_iter_i = _check_optimize_result(\n",
      "C:\\Users\\oleksiysyrotkin\\AppData\\Local\\Programs\\Python\\Python39\\lib\\site-packages\\sklearn\\linear_model\\_logistic.py:763: ConvergenceWarning: lbfgs failed to converge (status=1):\n",
      "STOP: TOTAL NO. of ITERATIONS REACHED LIMIT.\n",
      "\n",
      "Increase the number of iterations (max_iter) or scale the data as shown in:\n",
      "    https://scikit-learn.org/stable/modules/preprocessing.html\n",
      "Please also refer to the documentation for alternative solver options:\n",
      "    https://scikit-learn.org/stable/modules/linear_model.html#logistic-regression\n",
      "  n_iter_i = _check_optimize_result(\n"
     ]
    },
    {
     "output_type": "display_data",
     "data": {
      "image/png": "[encoded data removed]",
      "text/plain": [
       "<Figure size 432x288 with 1 Axes>"
      ]
     },
     "metadata": {}
    }
   ],
   "metadata": {}
  },
  {
   "cell_type": "code",
   "execution_count": 39,
   "source": [
    "from sklearn.model_selection import GridSearchCV\r\n",
    "\r\n",
    "# Specify L1 regularization\r\n",
    "lr = LogisticRegression(penalty='l1', solver='liblinear')\r\n",
    "\r\n",
    "# Instantiate the GridSearchCV object and run the search\r\n",
    "searcher = GridSearchCV(lr, {'C':[0.001, 0.01, 0.1, 1, 10]})\r\n",
    "searcher.fit(X_train, y_train)\r\n",
    "\r\n",
    "# Report the best parameters\r\n",
    "print(\"Best CV params\", searcher.best_params_)\r\n",
    "\r\n",
    "# Find the number of nonzero coefficients (selected features)\r\n",
    "best_lr = searcher.best_estimator_\r\n",
    "coefs = best_lr.coef_\r\n",
    "print(\"Total number of features:\", coefs.size)\r\n",
    "print(\"Number of selected features:\", np.count_nonzero(coefs))"
   ],
   "outputs": [
    {
     "output_type": "stream",
     "name": "stdout",
     "text": [
      "Best CV params {'C': 1}\n",
      "Total number of features: 640\n",
      "Number of selected features: 360\n"
     ]
    }
   ],
   "metadata": {}
  },
  {
   "cell_type": "code",
   "execution_count": 43,
   "source": [
    "# Exercise: interpreting LR coefficients:\r\n",
    "import numpy as np\r\n",
    "\r\n",
    "# Get the indices of the sorted cofficients\r\n",
    "inds_ascending = np.argsort(lr.coef_.flatten()) \r\n",
    "inds_descending = inds_ascending[::-1]\r\n",
    "\r\n",
    "# Print the most positive words\r\n",
    "print(\"Most positive words: \", end=\"\")\r\n",
    "for i in range(5):\r\n",
    "    print(vocab[inds_descending[i]], end=\", \")\r\n",
    "print(\"\\n\")\r\n",
    "\r\n",
    "# Print most negative words\r\n",
    "print(\"Most negative words: \", end=\"\")\r\n",
    "for i in range(5):\r\n",
    "    print(vocab[inds_ascending[i]], end=\", \")\r\n",
    "print(\"\\n\")\r\n",
    "\r\n",
    "# output online as follows:\r\n",
    "# Most positive words: favorite, superb, noir, knowing, loved, \r\n",
    "\r\n",
    "# Most negative words: disappointing, waste, worst, boring, lame, \r\n"
   ],
   "outputs": [
    {
     "output_type": "error",
     "ename": "AttributeError",
     "evalue": "'LogisticRegression' object has no attribute 'coef_'",
     "traceback": [
      "\u001b[1;31m---------------------------------------------------------------------------\u001b[0m",
      "\u001b[1;31mAttributeError\u001b[0m                            Traceback (most recent call last)",
      "\u001b[1;32m<ipython-input-43-f2ca346035d4>\u001b[0m in \u001b[0;36m<module>\u001b[1;34m\u001b[0m\n\u001b[0;32m      3\u001b[0m \u001b[1;33m\u001b[0m\u001b[0m\n\u001b[0;32m      4\u001b[0m \u001b[1;31m# Get the indices of the sorted cofficients\u001b[0m\u001b[1;33m\u001b[0m\u001b[1;33m\u001b[0m\u001b[1;33m\u001b[0m\u001b[0m\n\u001b[1;32m----> 5\u001b[1;33m \u001b[0minds_ascending\u001b[0m \u001b[1;33m=\u001b[0m \u001b[0mnp\u001b[0m\u001b[1;33m.\u001b[0m\u001b[0margsort\u001b[0m\u001b[1;33m(\u001b[0m\u001b[0mlr\u001b[0m\u001b[1;33m.\u001b[0m\u001b[0mcoef_\u001b[0m\u001b[1;33m.\u001b[0m\u001b[0mflatten\u001b[0m\u001b[1;33m(\u001b[0m\u001b[1;33m)\u001b[0m\u001b[1;33m)\u001b[0m\u001b[1;33m\u001b[0m\u001b[1;33m\u001b[0m\u001b[0m\n\u001b[0m\u001b[0;32m      6\u001b[0m \u001b[0minds_descending\u001b[0m \u001b[1;33m=\u001b[0m \u001b[0minds_ascending\u001b[0m\u001b[1;33m[\u001b[0m\u001b[1;33m:\u001b[0m\u001b[1;33m:\u001b[0m\u001b[1;33m-\u001b[0m\u001b[1;36m1\u001b[0m\u001b[1;33m]\u001b[0m\u001b[1;33m\u001b[0m\u001b[1;33m\u001b[0m\u001b[0m\n\u001b[0;32m      7\u001b[0m \u001b[1;33m\u001b[0m\u001b[0m\n",
      "\u001b[1;31mAttributeError\u001b[0m: 'LogisticRegression' object has no attribute 'coef_'"
     ]
    }
   ],
   "metadata": {}
  },
  {
   "cell_type": "code",
   "execution_count": 44,
   "source": [
    "import nltk"
   ],
   "outputs": [
    {
     "output_type": "error",
     "ename": "ModuleNotFoundError",
     "evalue": "No module named 'nltk'",
     "traceback": [
      "\u001b[1;31m---------------------------------------------------------------------------\u001b[0m",
      "\u001b[1;31mModuleNotFoundError\u001b[0m                       Traceback (most recent call last)",
      "\u001b[1;32m<ipython-input-44-1d2184025e54>\u001b[0m in \u001b[0;36m<module>\u001b[1;34m\u001b[0m\n\u001b[1;32m----> 1\u001b[1;33m \u001b[1;32mimport\u001b[0m \u001b[0mnltk\u001b[0m\u001b[1;33m\u001b[0m\u001b[1;33m\u001b[0m\u001b[0m\n\u001b[0m",
      "\u001b[1;31mModuleNotFoundError\u001b[0m: No module named 'nltk'"
     ]
    }
   ],
   "metadata": {}
  },
  {
   "cell_type": "markdown",
   "source": [
    "## Logistic regression probabilities:\r\n",
    "\r\n",
    "Small C => Regularization => Smaller coefficients => less confident predictions\r\n",
    "\r\n",
    "overconfidence => overfitting\r\n",
    "\r\n",
    "less confidence => less overfitting\r\n",
    "\r\n",
    "2 features: 2 coefficients\r\n",
    "\r\n",
    "Why 2 coefficients, if you only need 1 number to represent the slope?\r\n",
    "\r\n",
    "Ratio of coefficients => slope\r\n",
    "\r\n",
    "Magnitude of coeff => confidence level\r\n",
    "\r\n",
    "Regularization affects 1) confidence, 2) orientation of decision boundary\r\n",
    "\r\n",
    "Probabilities - we get them from raw model output, but they are normalized (projected, squashed) onto [-1, 1] by the **sigmoid** function\r\n",
    "\r\n",
    "Sigmoid:\r\n",
    "- raw model = 0 => probability is 0.5\r\n",
    "- raw model > 0 => probability (of positive class) tends to 1\r\n",
    "- raw model < 0 => probability (of positive class) tends to 0"
   ],
   "metadata": {}
  },
  {
   "cell_type": "code",
   "execution_count": null,
   "source": [
    "# Set the regularization strength\r\n",
    "model = LogisticRegression(C=1)\r\n",
    "\r\n",
    "# Fit and plot\r\n",
    "model.fit(X,y)\r\n",
    "plot_classifier(X,y,model,proba=True)\r\n",
    "\r\n",
    "# Predict probabilities on training points\r\n",
    "prob = model.predict_proba(X)\r\n",
    "print(\"Maximum predicted probability\", prob)"
   ],
   "outputs": [],
   "metadata": {}
  },
  {
   "cell_type": "code",
   "execution_count": null,
   "source": [
    "# Visualizing easy (most confident) and difficult (least confident) examples:\r\n",
    "\r\n",
    "lr = LogisticRegression()\r\n",
    "lr.fit(X,y)\r\n",
    "\r\n",
    "# Get predicted probabilities\r\n",
    "proba = lr.predict_proba(X)\r\n",
    "\r\n",
    "# Sort the example indices by their maximum probability\r\n",
    "proba_inds = np.argsort(np.max(proba,axis=1))\r\n",
    "\r\n",
    "# Show the most confident (least ambiguous) digit: it was 0 in the example\r\n",
    "show_digit(proba_inds[-1], lr)\r\n",
    "\r\n",
    "# Show the least confident (most ambiguous) digit: it was a \"weird\" 4 in the example\r\n",
    "show_digit(proba_inds[0], lr)"
   ],
   "outputs": [],
   "metadata": {}
  },
  {
   "cell_type": "markdown",
   "source": [
    "### Techniques for multi-class classification\r\n",
    "e.g. series of classifiers\r\n",
    "```python\r\n",
    "lr0 = LogisticRegression()\r\n",
    "lr1 = LogisticRegression()\r\n",
    "lr2 = LogisticRegression()\r\n",
    "```\r\n",
    "\r\n",
    "**one-vs-rest** strategy\r\n",
    "```python\r\n",
    "lr0.fit(X, y==0) # y==0: array that is true when y == 0, false otherwise\r\n",
    "lr1.fit(X, y==1)\r\n",
    "lr2.fit(X, y==2)\r\n",
    "```\r\n",
    "\r\n",
    "=> take the class whose model gives the largest raw model output:\r\n",
    "```python\r\n",
    "lr0.decision_function(X)[0]\r\n",
    "```\r\n",
    "e.g. lr0 output > lr1 output  => predict class 0\r\n",
    "\r\n",
    "* With SVMs, one-vs-rest is more popular\r\n",
    "\r\n",
    "```python\r\n",
    "lr_mn = LogisticRegression()\r\n",
    "lr_mn.fit(X, y)\r\n",
    "\r\n",
    "lr_mn.coef_\r\n",
    "lr_mn.intercept_\r\n",
    "```"
   ],
   "metadata": {}
  },
  {
   "cell_type": "markdown",
   "source": [
    "### Other technique for multiclass:\r\n",
    "\r\n",
    "**Multinomial** (**softmax**, cross-entropy loss):\r\n",
    "\r\n",
    "Fit a single classifier for all classes\r\n",
    "\r\n",
    "```python\r\n",
    "lr_mn = LogisticRegression(multi_class='multinomial', solver='lbfgs')\r\n",
    "lr_mn.fit(X, y)\r\n",
    "\r\n",
    "lr_mn.coef_\r\n",
    "lr_mn.intercept_\r\n",
    "```"
   ],
   "metadata": {}
  },
  {
   "cell_type": "markdown",
   "source": [
    "Both approaches: number of coefficients: #classes * # features\r\n",
    "\r\n",
    "number of intercepts: #classes"
   ],
   "metadata": {}
  },
  {
   "cell_type": "code",
   "execution_count": 45,
   "source": [
    "# comparing the fitting of multi-class logistic regression:\r\n",
    "# Fit one-vs-rest logistic regression classifier\r\n",
    "lr_ovr = LogisticRegression()\r\n",
    "lr_ovr.fit(X_train, y_train)\r\n",
    "\r\n",
    "print(\"OVR training accuracy:\", lr_ovr.score(X_train, y_train))\r\n",
    "print(\"OVR test accuracy    :\", lr_ovr.score(X_test, y_test))\r\n",
    "\r\n",
    "# Fit softmax classifier\r\n",
    "lr_mn = LogisticRegression(multi_class='multinomial', solver='lbfgs')\r\n",
    "lr_mn.fit(X_train, y_train)\r\n",
    "\r\n",
    "print(\"Softmax training accuracy:\", lr_mn.score(X_train, y_train))\r\n",
    "print(\"Softmax test accuracy    :\", lr_mn.score(X_test, y_test))"
   ],
   "outputs": [
    {
     "output_type": "stream",
     "name": "stdout",
     "text": [
      "OVR training accuracy: 0.9577464788732394\n",
      "OVR test accuracy    : 0.958041958041958\n",
      "Softmax training accuracy: 0.9413145539906104\n",
      "Softmax test accuracy    : 0.916083916083916\n"
     ]
    },
    {
     "output_type": "stream",
     "name": "stderr",
     "text": [
      "C:\\Users\\oleksiysyrotkin\\AppData\\Local\\Programs\\Python\\Python39\\lib\\site-packages\\sklearn\\linear_model\\_logistic.py:763: ConvergenceWarning: lbfgs failed to converge (status=1):\n",
      "STOP: TOTAL NO. of ITERATIONS REACHED LIMIT.\n",
      "\n",
      "Increase the number of iterations (max_iter) or scale the data as shown in:\n",
      "    https://scikit-learn.org/stable/modules/preprocessing.html\n",
      "Please also refer to the documentation for alternative solver options:\n",
      "    https://scikit-learn.org/stable/modules/linear_model.html#logistic-regression\n",
      "  n_iter_i = _check_optimize_result(\n",
      "C:\\Users\\oleksiysyrotkin\\AppData\\Local\\Programs\\Python\\Python39\\lib\\site-packages\\sklearn\\linear_model\\_logistic.py:763: ConvergenceWarning: lbfgs failed to converge (status=1):\n",
      "STOP: TOTAL NO. of ITERATIONS REACHED LIMIT.\n",
      "\n",
      "Increase the number of iterations (max_iter) or scale the data as shown in:\n",
      "    https://scikit-learn.org/stable/modules/preprocessing.html\n",
      "Please also refer to the documentation for alternative solver options:\n",
      "    https://scikit-learn.org/stable/modules/linear_model.html#logistic-regression\n",
      "  n_iter_i = _check_optimize_result(\n"
     ]
    }
   ],
   "metadata": {}
  },
  {
   "cell_type": "markdown",
   "source": [
    "# Chapter 4: SVMs\r\n",
    "\r\n",
    "SVM\r\n",
    "- linear classifier\r\n",
    "- uses hinge loss function\r\n",
    "- Standard: uses L2 regularization\r\n",
    "- if an example falls into the \"zero loss\" zone, it does not contribute to the fit\r\n",
    "\r\n",
    "\r\n",
    "Support vector - a training example that is incorrectly classified or close to the boundary\r\n",
    "\r\n",
    "Kernel SVMs are fast\r\n",
    "\r\n",
    "## Kernel SVMs:\r\n",
    "Fitting a linear model in a transformed (squared) space corresponds to fitting a non-linear model (e.g. ellipse) in the original space\r\n",
    "\r\n",
    "```python\r\n",
    "from sklearn.svm import SVC\r\n",
    "svm = SVC(gamma=1) # default is kernel='rbf'\r\n",
    "# gamma hyperparameter controls the smoothness of the boundary\r\n",
    "# higher gamma => more training accuracy => overfitting\r\n",
    "```"
   ],
   "metadata": {}
  },
  {
   "cell_type": "code",
   "execution_count": 51,
   "source": [
    "from sklearn.model_selection import GridSearchCV\r\n",
    "from sklearn.svm import SVC\r\n",
    "from sklearn.datasets import load_digits\r\n",
    "\r\n",
    "digits = load_digits()\r\n",
    "X = digits.data\r\n",
    "y = digits.target == 2 # whether or not digit is 2\r\n",
    "\r\n",
    "# Instantiate an RBF SVM\r\n",
    "svm = SVC()\r\n",
    "\r\n",
    "# Instantiate the GridSearchCV object and run the search\r\n",
    "parameters = {'gamma':[0.00001, 0.0001, 0.001, 0.01, 0.1]}\r\n",
    "searcher = GridSearchCV(svm, parameters)\r\n",
    "searcher.fit(X, y)\r\n",
    "\r\n",
    "# Report the best parameters\r\n",
    "print(\"Best CV params\", searcher.best_params_)"
   ],
   "outputs": [
    {
     "output_type": "stream",
     "name": "stdout",
     "text": [
      "Best CV params {'gamma': 0.001}\n"
     ]
    }
   ],
   "metadata": {}
  },
  {
   "cell_type": "code",
   "execution_count": 56,
   "source": [
    "# Instantiate an RBF SVM\r\n",
    "svm = SVC()\r\n",
    "\r\n",
    "# Instantiate the GridSearchCV object and run the search\r\n",
    "parameters = {'C':[0.1, 1, 10], 'gamma':[0.00001, 0.0001, 0.001, 0.01, 0.1]}\r\n",
    "searcher = GridSearchCV(svm, parameters)\r\n",
    "searcher.fit(X_train, y_train)\r\n",
    "\r\n",
    "# Report the best parameters and the corresponding score\r\n",
    "print(\"Best CV params\", searcher.best_params_)\r\n",
    "print(\"Best CV accuracy\", searcher.best_score_)\r\n",
    "\r\n",
    "# Report the test accuracy using these best parameters\r\n",
    "print(\"Test accuracy of best grid search hypers:\", searcher.score(X_test, y_test))\r\n",
    "\r\n",
    "# output from example:\r\n",
    "# Best CV params {'C': 10, 'gamma': 0.0001}\r\n",
    "# Best CV accuracy 0.9988864142538976\r\n",
    "# Test accuracy of best grid search hypers: 0.9988876529477196"
   ],
   "outputs": [
    {
     "output_type": "stream",
     "name": "stdout",
     "text": [
      "Best CV params {'C': 10, 'gamma': 0.0001}\n",
      "Best CV accuracy 0.9365800273597811\n",
      "Test accuracy of best grid search hypers: 0.958041958041958\n"
     ]
    }
   ],
   "metadata": {}
  },
  {
   "cell_type": "markdown",
   "source": [
    "## Summary Logistic Regression vs. SVM:\r\n",
    "\r\n",
    "Logistic regression\r\n",
    "- is linear classifier\r\n",
    "- can be used with kernels, but slow\r\n",
    "- can output probabilities\r\n",
    "- can be extended to multi-class\r\n",
    "- all data points affect fit\r\n",
    "- L2 or L1 regularization\r\n",
    "\r\n",
    "SVM\r\n",
    "- is linear\r\n",
    "- can be used with kernels, and is fast\r\n",
    "- does not naturally output probabilities\r\n",
    "- can be extended to multi-class\r\n",
    "- only \"support vectors\" affect fit\r\n",
    "- conventionally L2 regularization (and hinge loss)\r\n",
    "\r\n",
    "## in sklearn\r\n",
    "Logistic regression\r\n",
    "- `linear_model.LogisticRegression`\r\n",
    "- `C`: regularization (small is large)\r\n",
    "- `penalty`: type of regularization (l1, l2)\r\n",
    "- `multi_class`\r\n",
    "\r\n",
    "SVM\r\n",
    "- `svm.LinearSVC` and `svm.SVC` (can also set kernel='linear')\r\n",
    "- `C`: regularization\r\n",
    "- `kernel`: 'linear', 'rbf', etc.\r\n",
    "- `gamma`: inverse RBF smoothness\r\n",
    "\r\n",
    "SGDClassifier\r\n",
    "- very fast\r\n",
    "- \"stochastic gradient descent\"\r\n",
    "- better for large data sets\r\n",
    "\r\n",
    "```python\r\n",
    "from sklearn.linear_model import SGDClassifier\r\n",
    "\r\n",
    "logreg = SGDClassifier(loss='log')\r\n",
    "linsvm = SGDClassifier(loss='hinge')\r\n",
    "```\r\n",
    "- `alpha` hyperparameter is like `1/C`"
   ],
   "metadata": {}
  },
  {
   "cell_type": "code",
   "execution_count": 58,
   "source": [
    "# Using SGDClassifier to compare logistic regression and SVM\r\n",
    "from sklearn.linear_model import SGDClassifier\r\n",
    "\r\n",
    "# We set random_state=0 for reproducibility \r\n",
    "linear_classifier = SGDClassifier(random_state=0)\r\n",
    "\r\n",
    "# Instantiate the GridSearchCV object and run the search\r\n",
    "parameters = {'alpha':[0.00001, 0.0001, 0.001, 0.01, 0.1, 1], \r\n",
    "             'loss':['hinge', 'log'], 'penalty':['l1', 'l2']}\r\n",
    "searcher = GridSearchCV(linear_classifier, parameters, cv=10)\r\n",
    "searcher.fit(X_train, y_train)\r\n",
    "\r\n",
    "# Report the best parameters and the corresponding score\r\n",
    "print(\"Best CV params\", searcher.best_params_)\r\n",
    "print(\"Best CV accuracy\", searcher.best_score_)\r\n",
    "print(\"Test accuracy of best grid search hypers:\", searcher.score(X_test, y_test))\r\n",
    "\r\n",
    "# Output:\r\n",
    "# Best CV params {'alpha': 0.0001, 'loss': 'hinge', 'penalty': 'l1'}\r\n",
    "# Best CV accuracy 0.94351630867144\r\n",
    "# Test accuracy of best grid search hypers: 0.9592592592592593"
   ],
   "outputs": [
    {
     "output_type": "stream",
     "name": "stdout",
     "text": [
      "Best CV params {'alpha': 0.01, 'loss': 'hinge', 'penalty': 'l1'}\n",
      "Best CV accuracy 0.9037098560354375\n",
      "Test accuracy of best grid search hypers: 0.9370629370629371\n"
     ]
    }
   ],
   "metadata": {}
  }
 ],
 "metadata": {
  "orig_nbformat": 4,
  "language_info": {
   "name": "python",
   "version": "3.9.1",
   "mimetype": "text/x-python",
   "codemirror_mode": {
    "name": "ipython",
    "version": 3
   },
   "pygments_lexer": "ipython3",
   "nbconvert_exporter": "python",
   "file_extension": ".py"
  },
  "kernelspec": {
   "name": "python3",
   "display_name": "Python 3.9.1 64-bit"
  },
  "interpreter": {
   "hash": "f64508d4f938c340eacad252babcacd667752eac62b2ca5c0159be9b306d5c5d"
  }
 },
 "nbformat": 4,
 "nbformat_minor": 2
}