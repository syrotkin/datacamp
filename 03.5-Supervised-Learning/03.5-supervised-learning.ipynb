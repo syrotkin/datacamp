{
 "cells": [
  {
   "cell_type": "markdown",
   "source": [
    "Supervised learning: predictor variables, target variables\r\n",
    "\r\n",
    "Classification: target variables are categories\r\n",
    "\r\n",
    "Regression: target variables are continuous\r\n",
    "\r\n",
    "Terminology:\r\n",
    "**Feature** == **predictor variable** = **independent variable**\r\n",
    "\r\n",
    "**Target variable** = **dependent variable** == **response variable**\r\n",
    "\r\n"
   ],
   "metadata": {}
  }
 ],
 "metadata": {
  "orig_nbformat": 4,
  "language_info": {
   "name": "python"
  }
 },
 "nbformat": 4,
 "nbformat_minor": 2
}