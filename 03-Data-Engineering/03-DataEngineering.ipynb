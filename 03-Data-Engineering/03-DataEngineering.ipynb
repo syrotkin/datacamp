{
 "cells": [
  {
   "cell_type": "code",
   "execution_count": 23,
   "source": [
    "import pandas as pd\r\n",
    "\r\n",
    "# Variant 1\r\n",
    "customer_df = pd.DataFrame({'customer_id': [1], \\\r\n",
    "                            'email': ['jane.doe@theweb.com'], \\\r\n",
    "                       })\r\n",
    "\r\n",
    "customer_df\r\n",
    "\r\n",
    "# Variant 2 (equivalent to Variant 2)\r\n",
    "customer_df  = pd.DataFrame([[1, 'jane.doe@theweb.com']])  \r\n",
    "customer_df.columns = ['customer_id', 'email']\r\n",
    "\r\n",
    "customer_df\r\n",
    "\r\n",
    "split_email = customer_df.email.str.split('@', expand=True)\r\n",
    "\r\n",
    "\r\n",
    "customer_df = customer_df.assign(\r\n",
    "    username=split_email[0],\r\n",
    "    domain=split_email[1],\r\n",
    ")\r\n",
    "\r\n",
    "customer_df"
   ],
   "outputs": [
    {
     "output_type": "execute_result",
     "data": {
      "text/html": [
       "<div>\n",
       "<style scoped>\n",
       "    .dataframe tbody tr th:only-of-type {\n",
       "        vertical-align: middle;\n",
       "    }\n",
       "\n",
       "    .dataframe tbody tr th {\n",
       "        vertical-align: top;\n",
       "    }\n",
       "\n",
       "    .dataframe thead th {\n",
       "        text-align: right;\n",
       "    }\n",
       "</style>\n",
       "<table border=\"1\" class=\"dataframe\">\n",
       "  <thead>\n",
       "    <tr style=\"text-align: right;\">\n",
       "      <th></th>\n",
       "      <th>customer_id</th>\n",
       "      <th>email</th>\n",
       "      <th>username</th>\n",
       "      <th>domain</th>\n",
       "    </tr>\n",
       "  </thead>\n",
       "  <tbody>\n",
       "    <tr>\n",
       "      <th>0</th>\n",
       "      <td>1</td>\n",
       "      <td>jane.doe@theweb.com</td>\n",
       "      <td>jane.doe</td>\n",
       "      <td>theweb.com</td>\n",
       "    </tr>\n",
       "  </tbody>\n",
       "</table>\n",
       "</div>"
      ],
      "text/plain": [
       "   customer_id                email  username      domain\n",
       "0            1  jane.doe@theweb.com  jane.doe  theweb.com"
      ]
     },
     "metadata": {},
     "execution_count": 23
    }
   ],
   "metadata": {}
  },
  {
   "cell_type": "code",
   "execution_count": 1,
   "source": [
    "import pyspark.sql\r\n",
    "\r\n",
    "# spark is a Spark session object\r\n",
    "spark = pyspark.sql.SparkSession.builder.getOrCreate()\r\n",
    "\r\n",
    "# can read from database:\r\n",
    "spark.read.jdbc('jdbc:postgresql://localhost:5432/pagila', \r\n",
    "'customer',\r\n",
    "properties = {'user': 'repl', 'password': 'password'})\r\n",
    "\r\n"
   ],
   "outputs": [],
   "metadata": {}
  },
  {
   "cell_type": "code",
   "execution_count": 6,
   "source": [
    "import pandas as pd\r\n",
    "\r\n",
    "customer_df = pd.DataFrame([[1, 'Jane', 'Doe'],\r\n",
    "                            [2, 'Joe', 'Doe']])\r\n",
    "customer_df.columns = ['customer_id', 'first_name', 'last_name']\r\n",
    "\r\n",
    "\r\n",
    "ratings_df = pd.DataFrame([[1, 2, 1],\r\n",
    "                           [2, 1, 5],\r\n",
    "                           [2, 2, 3]])\r\n",
    "ratings_df.columns = ['customer_id', 'film_id', 'rating']\r\n",
    "\r\n",
    "\r\n"
   ],
   "outputs": [
    {
     "output_type": "execute_result",
     "data": {
      "text/html": [
       "<div>\n",
       "<style scoped>\n",
       "    .dataframe tbody tr th:only-of-type {\n",
       "        vertical-align: middle;\n",
       "    }\n",
       "\n",
       "    .dataframe tbody tr th {\n",
       "        vertical-align: top;\n",
       "    }\n",
       "\n",
       "    .dataframe thead th {\n",
       "        text-align: right;\n",
       "    }\n",
       "</style>\n",
       "<table border=\"1\" class=\"dataframe\">\n",
       "  <thead>\n",
       "    <tr style=\"text-align: right;\">\n",
       "      <th></th>\n",
       "      <th>customer_id</th>\n",
       "      <th>first_name</th>\n",
       "      <th>last_name</th>\n",
       "    </tr>\n",
       "  </thead>\n",
       "  <tbody>\n",
       "    <tr>\n",
       "      <th>0</th>\n",
       "      <td>1</td>\n",
       "      <td>Jane</td>\n",
       "      <td>Doe</td>\n",
       "    </tr>\n",
       "    <tr>\n",
       "      <th>1</th>\n",
       "      <td>2</td>\n",
       "      <td>Joe</td>\n",
       "      <td>Doe</td>\n",
       "    </tr>\n",
       "  </tbody>\n",
       "</table>\n",
       "</div>"
      ],
      "text/plain": [
       "   customer_id first_name last_name\n",
       "0            1       Jane       Doe\n",
       "1            2        Joe       Doe"
      ]
     },
     "metadata": {},
     "execution_count": 6
    }
   ],
   "metadata": {}
  },
  {
   "cell_type": "markdown",
   "source": [
    "## Joining in Spark:"
   ],
   "metadata": {}
  },
  {
   "cell_type": "code",
   "execution_count": 16,
   "source": [
    "# Group ratings by customer_id:\r\n",
    "ratings_per_customer = ratings_df.groupby('customer_id').mean('rating')\r\n",
    "ratings_per_customer\r\n",
    "\r\n",
    "\r\n",
    "# Join with customer dataframe:\r\n",
    "# Note: 'merge' is used\r\n",
    "customer_df.merge(\r\n",
    "    ratings_per_customer,\r\n",
    "    left_on='customer_id', right_on='customer_id'\r\n",
    ")"
   ],
   "outputs": [
    {
     "output_type": "execute_result",
     "data": {
      "text/html": [
       "<div>\n",
       "<style scoped>\n",
       "    .dataframe tbody tr th:only-of-type {\n",
       "        vertical-align: middle;\n",
       "    }\n",
       "\n",
       "    .dataframe tbody tr th {\n",
       "        vertical-align: top;\n",
       "    }\n",
       "\n",
       "    .dataframe thead th {\n",
       "        text-align: right;\n",
       "    }\n",
       "</style>\n",
       "<table border=\"1\" class=\"dataframe\">\n",
       "  <thead>\n",
       "    <tr style=\"text-align: right;\">\n",
       "      <th></th>\n",
       "      <th>customer_id</th>\n",
       "      <th>first_name</th>\n",
       "      <th>last_name</th>\n",
       "      <th>film_id</th>\n",
       "      <th>rating</th>\n",
       "    </tr>\n",
       "  </thead>\n",
       "  <tbody>\n",
       "    <tr>\n",
       "      <th>0</th>\n",
       "      <td>1</td>\n",
       "      <td>Jane</td>\n",
       "      <td>Doe</td>\n",
       "      <td>2.0</td>\n",
       "      <td>1.0</td>\n",
       "    </tr>\n",
       "    <tr>\n",
       "      <th>1</th>\n",
       "      <td>2</td>\n",
       "      <td>Joe</td>\n",
       "      <td>Doe</td>\n",
       "      <td>1.5</td>\n",
       "      <td>4.0</td>\n",
       "    </tr>\n",
       "  </tbody>\n",
       "</table>\n",
       "</div>"
      ],
      "text/plain": [
       "   customer_id first_name last_name  film_id  rating\n",
       "0            1       Jane       Doe      2.0     1.0\n",
       "1            2        Joe       Doe      1.5     4.0"
      ]
     },
     "metadata": {},
     "execution_count": 16
    }
   ],
   "metadata": {}
  },
  {
   "cell_type": "code",
   "execution_count": 11,
   "source": [
    "import pandas as pd\r\n",
    "\r\n",
    "customer_df = pd.DataFrame([[1, 'jane.doe@theweb.com', 'Jane', 'Doe'],\r\n",
    "                            [2, 'joe.doe@theweb.com', 'Joe', 'Doe']])\r\n",
    "customer_df.columns = ['customer_id', 'email', 'first_name', 'last_name']\r\n",
    "\r\n",
    "split_email = customer_df.email.str.split('@', expand=True)\r\n",
    "\r\n",
    "customer_df = customer_df.assign(\r\n",
    "    username = split_email[0],\r\n",
    "    domain=split_email[1]\r\n",
    ")\r\n"
   ],
   "outputs": [
    {
     "output_type": "execute_result",
     "data": {
      "text/plain": [
       "<pandas.core.groupby.generic.DataFrameGroupBy object at 0x000002B827C19FA0>"
      ]
     },
     "metadata": {},
     "execution_count": 11
    }
   ],
   "metadata": {}
  },
  {
   "cell_type": "code",
   "execution_count": null,
   "source": [
    "# Transform exercise:\r\n",
    "\r\n",
    "# Get the rental rate column as a string\r\n",
    "rental_rate_str = film_df.rental_rate.astype(\"str\")\r\n",
    "\r\n",
    "# Split up and expand the column\r\n",
    "rental_rate_expanded = rental_rate_str.str.split(\".\", expand=True)\r\n",
    "\r\n",
    "# Assign the columns to film_df\r\n",
    "film_df = film_df.assign(\r\n",
    "    rental_rate_dollar = rental_rate_expanded[0],\r\n",
    "    rental_rate_cents = rental_rate_expanded[1]\r\n",
    ")"
   ],
   "outputs": [],
   "metadata": {}
  },
  {
   "cell_type": "code",
   "execution_count": null,
   "source": [
    "# Joining film and rating tables:\r\n",
    "\r\n",
    "# Use groupBy and mean to aggregate the column\r\n",
    "ratings_per_film_df = rating_df.groupBy('film_id').mean('rating')\r\n",
    "\r\n",
    "# Join the tables using the film_id column\r\n",
    "film_df_with_ratings = film_df.join(\r\n",
    "    ratings_per_film_df,\r\n",
    "    film_df.film_id== ratings_per_film_df.film_id\r\n",
    ")\r\n",
    "\r\n",
    "# Show the 5 first results\r\n",
    "print(film_df_with_ratings.show(5))"
   ],
   "outputs": [],
   "metadata": {}
  }
 ],
 "metadata": {
  "orig_nbformat": 4,
  "language_info": {
   "name": "python",
   "version": "3.9.1",
   "mimetype": "text/x-python",
   "codemirror_mode": {
    "name": "ipython",
    "version": 3
   },
   "pygments_lexer": "ipython3",
   "nbconvert_exporter": "python",
   "file_extension": ".py"
  },
  "kernelspec": {
   "name": "python3",
   "display_name": "Python 3.9.1 64-bit"
  },
  "interpreter": {
   "hash": "f64508d4f938c340eacad252babcacd667752eac62b2ca5c0159be9b306d5c5d"
  }
 },
 "nbformat": 4,
 "nbformat_minor": 2
}